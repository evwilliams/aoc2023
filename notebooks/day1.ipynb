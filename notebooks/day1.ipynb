{
 "cells": [
  {
   "cell_type": "markdown",
   "source": [
    "**Note: Reimplemented in src/day1.py with simpler logic**"
   ],
   "metadata": {
    "collapsed": false
   },
   "id": "ce7068722b2a0bae"
  },
  {
   "cell_type": "code",
   "execution_count": 6,
   "id": "c0474212",
   "metadata": {
    "ExecuteTime": {
     "end_time": "2023-12-03T00:49:23.692028Z",
     "start_time": "2023-12-03T00:49:23.687234Z"
    }
   },
   "outputs": [],
   "source": [
    "import re\n",
    "\n",
    "from src.parsing import line_splitter\n",
    "from src.parsing import parse\n",
    "from src.parsing import str_reverse"
   ]
  },
  {
   "cell_type": "markdown",
   "source": [
    "# Part 1"
   ],
   "metadata": {
    "collapsed": false
   },
   "id": "652a6e7faf3e8ea1"
  },
  {
   "cell_type": "code",
   "execution_count": 7,
   "outputs": [],
   "source": [
    "def get_number(line):\n",
    "    number_chars = re.findall(r'\\d', line)\n",
    "    return int(number_chars[0] + number_chars[-1])"
   ],
   "metadata": {
    "collapsed": false,
    "ExecuteTime": {
     "end_time": "2023-12-03T00:49:25.320540Z",
     "start_time": "2023-12-03T00:49:25.315831Z"
    }
   },
   "id": "276214be61cbde18"
  },
  {
   "cell_type": "code",
   "execution_count": 8,
   "outputs": [
    {
     "name": "stdout",
     "output_type": "stream",
     "text": [
      "Result: 55090\n"
     ]
    }
   ],
   "source": [
    "result = parse(\n",
    "    filename=\"day1.txt\",\n",
    "    splitter=line_splitter,\n",
    "    filterer=lambda s: len(s) > 0,\n",
    "    parser=get_number)\n",
    "print(f'Result: {sum(result)}')"
   ],
   "metadata": {
    "collapsed": false,
    "ExecuteTime": {
     "end_time": "2023-12-03T00:49:25.525522Z",
     "start_time": "2023-12-03T00:49:25.521888Z"
    }
   },
   "id": "71c35370a2bad353"
  },
  {
   "cell_type": "markdown",
   "source": [
    "# Part 2"
   ],
   "metadata": {
    "collapsed": false
   },
   "id": "77af11f8ab3c23c3"
  },
  {
   "cell_type": "code",
   "execution_count": 9,
   "outputs": [],
   "source": [
    "def get_first_number(line, reverse=False):\n",
    "    mapping = {\n",
    "        \"one\": '1',\n",
    "        \"two\": '2',\n",
    "        \"three\": '3',\n",
    "        \"four\": '4',\n",
    "        \"five\": '5',\n",
    "        \"six\": '6',\n",
    "        \"seven\": '7',\n",
    "        \"eight\": '8',\n",
    "        \"nine\": '9',\n",
    "        \"zero\": '0',\n",
    "    }\n",
    "    if reverse:\n",
    "        line = str_reverse(line)\n",
    "        mapping = {str_reverse(k): v for k, v in mapping.items()}\n",
    "\n",
    "    def check(offset, num_chars):\n",
    "        return mapping.get(line[offset:offset + num_chars])\n",
    "\n",
    "    for i in range(len(line)):\n",
    "        if line[i] in mapping.values():\n",
    "            return line[i]\n",
    "        for j in range(3, 6):\n",
    "            if res := check(i, j):\n",
    "                return res\n",
    "    return None\n",
    "\n",
    "\n",
    "def get_number_incl_text(line):\n",
    "    first, second = get_first_number(line), get_first_number(line, reverse=True)\n",
    "    return int(first + second)"
   ],
   "metadata": {
    "collapsed": false,
    "ExecuteTime": {
     "end_time": "2023-12-03T00:49:25.888990Z",
     "start_time": "2023-12-03T00:49:25.885130Z"
    }
   },
   "id": "cf903b36a96d5f43"
  },
  {
   "cell_type": "code",
   "execution_count": 10,
   "outputs": [
    {
     "name": "stdout",
     "output_type": "stream",
     "text": [
      "Result: 54845\n"
     ]
    }
   ],
   "source": [
    "result = parse(\n",
    "    filename=\"day1.txt\",\n",
    "    splitter=line_splitter,\n",
    "    filterer=lambda s: len(s) > 0,\n",
    "    parser=get_number_incl_text)\n",
    "print(f'Result: {sum(result)}')"
   ],
   "metadata": {
    "collapsed": false,
    "ExecuteTime": {
     "end_time": "2023-12-03T00:49:26.063504Z",
     "start_time": "2023-12-03T00:49:26.051426Z"
    }
   },
   "id": "bf8b8bd363a1933b"
  },
  {
   "cell_type": "code",
   "execution_count": 10,
   "outputs": [],
   "source": [],
   "metadata": {
    "collapsed": false,
    "ExecuteTime": {
     "end_time": "2023-12-03T00:49:26.534506Z",
     "start_time": "2023-12-03T00:49:26.530243Z"
    }
   },
   "id": "c086de89c40bb438"
  },
  {
   "cell_type": "code",
   "execution_count": null,
   "outputs": [],
   "source": [],
   "metadata": {
    "collapsed": false
   },
   "id": "cd34d339fa32dd9d"
  }
 ],
 "metadata": {
  "kernelspec": {
   "display_name": "Python 3 (ipykernel)",
   "language": "python",
   "name": "python3"
  },
  "language_info": {
   "codemirror_mode": {
    "name": "ipython",
    "version": 3
   },
   "file_extension": ".py",
   "mimetype": "text/x-python",
   "name": "python",
   "nbconvert_exporter": "python",
   "pygments_lexer": "ipython3",
   "version": "3.10.8"
  }
 },
 "nbformat": 4,
 "nbformat_minor": 5
}

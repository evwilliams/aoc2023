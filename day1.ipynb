{
 "cells": [
  {
   "cell_type": "code",
   "execution_count": 11,
   "id": "c0474212",
   "metadata": {
    "ExecuteTime": {
     "end_time": "2023-12-01T18:35:03.163558Z",
     "start_time": "2023-12-01T18:35:03.159321Z"
    }
   },
   "outputs": [
    {
     "name": "stdout",
     "output_type": "stream",
     "text": [
      "55090\n"
     ]
    }
   ],
   "source": [
    "import re\n",
    "\n",
    "def parse(*, filename, splitter, filterer, parser):\n",
    "    directory = \"inputs/\"\n",
    "    with open(directory + filename, 'r') as f:\n",
    "        file_contents = f.read()\n",
    "    splits = splitter(file_contents)\n",
    "    filtered_split = filter(filterer, splits)\n",
    "    return list(map(parser, filtered_split))\n",
    "\n",
    "def line_splitter(text):\n",
    "    return text.split('\\n')\n",
    "\n",
    "def get_number(line):\n",
    "    number_chars = re.findall(r'\\d', line)\n",
    "    number_str = number_chars[0] + number_chars[-1]\n",
    "    return int(number_str)\n",
    "        \n",
    "result = parse(\n",
    "    filename = \"day1a.txt\", \n",
    "    splitter = line_splitter,\n",
    "    filterer = lambda s: len(s) > 0,\n",
    "    parser = get_number)\n",
    "print(sum(result))\n"
   ]
  },
  {
   "cell_type": "code",
   "execution_count": null,
   "outputs": [],
   "source": [],
   "metadata": {
    "collapsed": false
   },
   "id": "823195bcd9f03d08"
  }
 ],
 "metadata": {
  "kernelspec": {
   "display_name": "Python 3 (ipykernel)",
   "language": "python",
   "name": "python3"
  },
  "language_info": {
   "codemirror_mode": {
    "name": "ipython",
    "version": 3
   },
   "file_extension": ".py",
   "mimetype": "text/x-python",
   "name": "python",
   "nbconvert_exporter": "python",
   "pygments_lexer": "ipython3",
   "version": "3.10.8"
  }
 },
 "nbformat": 4,
 "nbformat_minor": 5
}
